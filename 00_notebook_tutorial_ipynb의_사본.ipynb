{
  "nbformat": 4,
  "nbformat_minor": 0,
  "metadata": {
    "kernelspec": {
      "name": "python3",
      "display_name": "Python 3"
    },
    "colab": {
      "name": "00_notebook_tutorial.ipynb의 사본",
      "provenance": []
    },
    "accelerator": "GPU"
  },
  "cells": [
    {
      "cell_type": "markdown",
      "metadata": {
        "id": "7EOKCv3eJqIS",
        "colab_type": "text"
      },
      "source": [
        "**Important note:** You should always work on a duplicate of the course notebook. On the page you used to open this, tick the box next to the name of the notebook and click duplicate to easily create a new version of this notebook.\n",
        "\n",
        "You will get errors each time you try to update your course repository if you don't do this, and your changes will end up being erased by the original course version."
      ]
    },
    {
      "cell_type": "markdown",
      "metadata": {
        "id": "x0wuYVO5JqIc",
        "colab_type": "text"
      },
      "source": [
        "# Welcome to Jupyter Notebooks!"
      ]
    },
    {
      "cell_type": "markdown",
      "metadata": {
        "id": "jxBOMaRjJqIg",
        "colab_type": "text"
      },
      "source": [
        "If you want to learn how to use this tool you've come to the right place. This article will teach you all you need to know to use Jupyter Notebooks effectively. You only need to go through Section 1 to learn the basics and you can go into Section 2 if you want to further increase your productivity."
      ]
    },
    {
      "cell_type": "markdown",
      "metadata": {
        "id": "41M25qbQJqIl",
        "colab_type": "text"
      },
      "source": [
        "You might be reading this tutorial in a web page (maybe Github or the course's webpage). We strongly suggest to read this tutorial in a (yes, you guessed it) Jupyter Notebook. This way you will be able to actually *try* the different commands we will introduce here."
      ]
    },
    {
      "cell_type": "markdown",
      "metadata": {
        "id": "u4d8VKSFJqIu",
        "colab_type": "text"
      },
      "source": [
        "## Section 1: Need to Know"
      ]
    },
    {
      "cell_type": "code",
      "metadata": {
        "id": "GpgBuWB4Ksbd",
        "colab_type": "code",
        "colab": {
          "base_uri": "https://localhost:8080/",
          "height": 51
        },
        "outputId": "d5506d71-b748-4b72-e421-6596973dec02"
      },
      "source": [
        " !curl -s https://course.fast.ai/setup/colab | bash"
      ],
      "execution_count": 1,
      "outputs": [
        {
          "output_type": "stream",
          "text": [
            "Updating fastai...\n",
            "Done.\n"
          ],
          "name": "stdout"
        }
      ]
    },
    {
      "cell_type": "markdown",
      "metadata": {
        "id": "ad_5wAxHJqIx",
        "colab_type": "text"
      },
      "source": [
        "### Introduction"
      ]
    },
    {
      "cell_type": "markdown",
      "metadata": {
        "id": "4WUKfc7KJqI0",
        "colab_type": "text"
      },
      "source": [
        "Let's build up from the basics, what is a Jupyter Notebook? Well, you are reading one. It is a document made of cells. You can write like I am writing now (markdown cells) or you can perform calculations in Python (code cells) and run them like this:"
      ]
    },
    {
      "cell_type": "code",
      "metadata": {
        "id": "EG6WyXSoJqI4",
        "colab_type": "code",
        "outputId": "efd16224-ad8c-4612-a137-178bcebbeec4",
        "colab": {
          "base_uri": "https://localhost:8080/",
          "height": 34
        }
      },
      "source": [
        "a=10\n",
        "b=20\n",
        "c=3\n",
        "\n",
        "a+b+c, a-b, a*c, b/a, a//c,b%a, a**c,"
      ],
      "execution_count": 3,
      "outputs": [
        {
          "output_type": "execute_result",
          "data": {
            "text/plain": [
              "(33, -10, 30, 2.0, 3, 0, 1000)"
            ]
          },
          "metadata": {
            "tags": []
          },
          "execution_count": 3
        }
      ]
    },
    {
      "cell_type": "markdown",
      "metadata": {
        "id": "TLjoFh25JqJH",
        "colab_type": "text"
      },
      "source": [
        "Cool huh? This combination of prose and code makes Jupyter Notebook ideal for experimentation: we can see the rationale for each experiment, the code and the results in one comprehensive document. In fast.ai, each lesson is documented in a notebook and you can later use that notebook to experiment yourself. \n",
        "\n",
        "Other renowned institutions in academy and industry use Jupyter Notebook: Google, Microsoft, IBM, Bloomberg, Berkeley and NASA among others. Even Nobel-winning economists [use Jupyter Notebooks](https://paulromer.net/jupyter-mathematica-and-the-future-of-the-research-paper/)  for their experiments and some suggest that Jupyter Notebooks will be the [new format for research papers](https://www.theatlantic.com/science/archive/2018/04/the-scientific-paper-is-obsolete/556676/)."
      ]
    },
    {
      "cell_type": "markdown",
      "metadata": {
        "id": "IZ2v3Qz9JqJK",
        "colab_type": "text"
      },
      "source": [
        "### Writing"
      ]
    },
    {
      "cell_type": "markdown",
      "metadata": {
        "id": "fPU7JQGFJqJM",
        "colab_type": "text"
      },
      "source": [
        "A type of cell in which you can write like this is called _Markdown_. [_Markdown_](https://en.wikipedia.org/wiki/Markdown) is a very popular markup language. To specify that a cell is _Markdown_ you need to click in the drop-down menu in the toolbar and select _Markdown_."
      ]
    },
    {
      "cell_type": "markdown",
      "metadata": {
        "id": "NwSrUiebJqJO",
        "colab_type": "text"
      },
      "source": [
        "Click on the the '+' button on the left and select _Markdown_ from the toolbar."
      ]
    },
    {
      "cell_type": "markdown",
      "metadata": {
        "id": "oIIp9ZHyJqJS",
        "colab_type": "text"
      },
      "source": [
        "Now you can type your first _Markdown_ cell. Write 'My first markdown cell' and press run."
      ]
    },
    {
      "cell_type": "markdown",
      "metadata": {
        "id": "O1j11iuXJqJW",
        "colab_type": "text"
      },
      "source": [
        "![add](https://github.com/fastai/course-v3/blob/master/nbs/dl1/images/notebook_tutorial/add.png?raw=1)"
      ]
    },
    {
      "cell_type": "markdown",
      "metadata": {
        "id": "Hm4EfqZbJqJa",
        "colab_type": "text"
      },
      "source": [
        "You should see something like this:"
      ]
    },
    {
      "cell_type": "markdown",
      "metadata": {
        "id": "87lYOZe7JqJc",
        "colab_type": "text"
      },
      "source": [
        "My first markdown cell"
      ]
    },
    {
      "cell_type": "markdown",
      "metadata": {
        "id": "nssvwRmQJqJe",
        "colab_type": "text"
      },
      "source": [
        "Now try making your first _Code_ cell: follow the same steps as before but don't change the cell type (when you add a cell its default type is _Code_). Type something like 3/2. You should see '1.5' as output."
      ]
    },
    {
      "cell_type": "code",
      "metadata": {
        "id": "JsYGhSOaJqJf",
        "colab_type": "code",
        "outputId": "7f6056ce-755a-4df9-b78e-d66359f02cde",
        "colab": {
          "base_uri": "https://localhost:8080/",
          "height": 34
        }
      },
      "source": [
        "5/7, 15//5, 20%3,10**4,0.1*10"
      ],
      "execution_count": 7,
      "outputs": [
        {
          "output_type": "execute_result",
          "data": {
            "text/plain": [
              "(0.7142857142857143, 3, 2, 10000, 1.0)"
            ]
          },
          "metadata": {
            "tags": []
          },
          "execution_count": 7
        }
      ]
    },
    {
      "cell_type": "markdown",
      "metadata": {
        "id": "2Bl5UeaqJqJm",
        "colab_type": "text"
      },
      "source": [
        "### Modes"
      ]
    },
    {
      "cell_type": "markdown",
      "metadata": {
        "id": "aQvst6oMJqJn",
        "colab_type": "text"
      },
      "source": [
        "If you made a mistake in your *Markdown* cell and you have already ran it, you will notice that you cannot edit it just by clicking on it. This is because you are in **Command Mode**. Jupyter Notebooks have two distinct modes:\n",
        "\n",
        "1. **Edit Mode**: Allows you to edit a cell's content.\n",
        "\n",
        "2. **Command Mode**: Allows you to edit the notebook as a whole and use keyboard shortcuts but not edit a cell's content. \n",
        "\n",
        "You can toggle between these two by either pressing <kbd>ESC</kbd> and <kbd>Enter</kbd> or clicking outside a cell or inside it (you need to double click if its a Markdown cell). You can always know which mode you're on since the current cell has a green border if in **Edit Mode** and a blue border in **Command Mode**. Try it!"
      ]
    },
    {
      "cell_type": "markdown",
      "metadata": {
        "id": "0ezIQYTAJqJp",
        "colab_type": "text"
      },
      "source": [
        "### Other Important Considerations"
      ]
    },
    {
      "cell_type": "markdown",
      "metadata": {
        "id": "SwVaUGMwJqJq",
        "colab_type": "text"
      },
      "source": [
        "1. Your notebook is autosaved every 120 seconds. If you want to manually save it you can just press the save button on the upper left corner or press <kbd>s</kbd> in **Command Mode**."
      ]
    },
    {
      "cell_type": "markdown",
      "metadata": {
        "id": "Qojp-jdgJqJs",
        "colab_type": "text"
      },
      "source": [
        "![Save](https://github.com/fastai/course-v3/blob/master/nbs/dl1/images/notebook_tutorial/save.png?raw=1)"
      ]
    },
    {
      "cell_type": "markdown",
      "metadata": {
        "id": "apQ8Vuu8JqJt",
        "colab_type": "text"
      },
      "source": [
        "2. To know if your kernel is computing or not you can check the dot in your upper right corner. If the dot is full, it means that the kernel is working. If not, it is idle. You can place the mouse on it and see the state of the kernel be displayed."
      ]
    },
    {
      "cell_type": "markdown",
      "metadata": {
        "id": "N_dXHftrJqJv",
        "colab_type": "text"
      },
      "source": [
        "![Busy](https://github.com/fastai/course-v3/blob/master/nbs/dl1/images/notebook_tutorial/busy.png?raw=1)"
      ]
    },
    {
      "cell_type": "markdown",
      "metadata": {
        "id": "a_PiU1hUJqJw",
        "colab_type": "text"
      },
      "source": [
        "3. There are a couple of shortcuts you must know about which we use **all** the time (always in **Command Mode**). These are:\n",
        "\n",
        "<kbd>Shift</kbd>+<kbd>Enter</kbd>: Runs the code or markdown on a cell\n",
        "\n",
        "<kbd>Up Arrow</kbd>+<kbd>Down Arrow</kbd>: Toggle across cells\n",
        "\n",
        "<kbd>b</kbd>: Create new cell\n",
        "\n",
        "<kbd>0</kbd>+<kbd>0</kbd>: Reset Kernel\n",
        "\n",
        "You can find more shortcuts in the Shortcuts section below."
      ]
    },
    {
      "cell_type": "markdown",
      "metadata": {
        "id": "LObVnTANJqJx",
        "colab_type": "text"
      },
      "source": [
        "4. You may need to use a terminal in a Jupyter Notebook environment (for example to git pull on a repository). That is very easy to do, just press 'New' in your Home directory and 'Terminal'. Don't know how to use the Terminal? We made a tutorial for that as well. You can find it [here](https://course.fast.ai/terminal_tutorial.html)."
      ]
    },
    {
      "cell_type": "markdown",
      "metadata": {
        "id": "FE3Pw42FJqJz",
        "colab_type": "text"
      },
      "source": [
        "![Terminal](https://github.com/fastai/course-v3/blob/master/nbs/dl1/images/notebook_tutorial/terminal.png?raw=1)"
      ]
    },
    {
      "cell_type": "markdown",
      "metadata": {
        "id": "0IFRc8sdJqJ0",
        "colab_type": "text"
      },
      "source": [
        "That's it. This is all you need to know to use Jupyter Notebooks. That said, we have more tips and tricks below ↓↓↓"
      ]
    },
    {
      "cell_type": "markdown",
      "metadata": {
        "id": "JhpyjbihJqJ1",
        "colab_type": "text"
      },
      "source": [
        "## Section 2: Going deeper"
      ]
    },
    {
      "cell_type": "markdown",
      "metadata": {
        "hide_input": false,
        "id": "HMB6KbK-JqJ3",
        "colab_type": "text"
      },
      "source": [
        "markdown\n"
      ]
    },
    {
      "cell_type": "markdown",
      "metadata": {
        "id": "2O_QDR4uJqJ4",
        "colab_type": "text"
      },
      "source": [
        "#### Italics, Bold, Strikethrough, Inline, Blockquotes and Links"
      ]
    },
    {
      "cell_type": "markdown",
      "metadata": {
        "id": "uoqE2GzKJqJ5",
        "colab_type": "text"
      },
      "source": [
        "The five most important concepts to format your code appropriately when using markdown are:\n",
        "    \n",
        "1. *Italics*: Surround your text with '\\_' or '\\*'\n",
        "2. **Bold**: Surround your text with '\\__' or '\\**'\n",
        "3. `inline`: Surround your text with '\\`'\n",
        "4.  > blockquote: Place '\\>' before your text.\n",
        "5.  [Links](https://course.fast.ai/): Surround the text you want to link with '\\[\\]' and place the link adjacent to the text, surrounded with '()'\n",
        "\n",
        "_try italic_\n",
        "*try italic*\n",
        "__try bold__\n",
        "**try bold**\n",
        "** try bold **  **<-띄어쓰기 주의**\n",
        "`try inline`\n",
        "'>try block'\n",
        ">block\n",
        ">>block\n",
        "\n"
      ]
    },
    {
      "cell_type": "markdown",
      "metadata": {
        "id": "sBfDC-G-JqJ6",
        "colab_type": "text"
      },
      "source": [
        "#### Headings"
      ]
    },
    {
      "cell_type": "markdown",
      "metadata": {
        "id": "WZEr9qj49CzG",
        "colab_type": "text"
      },
      "source": [
        "# level one\n",
        "## level two\n",
        "### level three\n",
        "#### level four\n",
        "\n",
        "#level one\n",
        "#####띄어쓰기 상관없음"
      ]
    },
    {
      "cell_type": "markdown",
      "metadata": {
        "id": "9EMk4gHOJqJ9",
        "colab_type": "text"
      },
      "source": [
        "Notice that including a hashtag before the text in a markdown cell makes the text a heading. The number of hashtags you include will determine the priority of the header ('#' is level one, '##' is level two, '###' is level three and '####' is level four). We will add three new cells with the '+' button on the left to see how every level of heading looks."
      ]
    },
    {
      "cell_type": "markdown",
      "metadata": {
        "id": "F7U3HijmJqJ-",
        "colab_type": "text"
      },
      "source": [
        "Double click on some headings and find out what level they are!"
      ]
    },
    {
      "cell_type": "markdown",
      "metadata": {
        "id": "zxuHuAReJqKA",
        "colab_type": "text"
      },
      "source": [
        "#### Lists"
      ]
    },
    {
      "cell_type": "markdown",
      "metadata": {
        "id": "frLNmmlhJqKB",
        "colab_type": "text"
      },
      "source": [
        "There are three types of lists in markdown."
      ]
    },
    {
      "cell_type": "markdown",
      "metadata": {
        "id": "9qHnQ2Y1JqKC",
        "colab_type": "text"
      },
      "source": [
        "Ordered list:\n",
        "\n",
        "1. Step 1\n",
        "    2. Step 1B\n",
        "3. Step 3\n",
        "\n",
        "try list:\n",
        "\n",
        "1. step1\n",
        "2. step 1B\n",
        "3. step3\n",
        "\n",
        "1. step1 #같이 쓰면 목록이 '4'가 됨\n",
        "\n",
        "\n",
        "\n"
      ]
    },
    {
      "cell_type": "markdown",
      "metadata": {
        "id": "tzuKzmedJqKD",
        "colab_type": "text"
      },
      "source": [
        "Unordered list\n",
        "\n",
        "* learning rate\n",
        "* cycle length\n",
        "* weight decay"
      ]
    },
    {
      "cell_type": "markdown",
      "metadata": {
        "id": "AGPHouP6-lRC",
        "colab_type": "text"
      },
      "source": [
        "1. try underlist\n",
        " * aaa\n",
        " * bbb #띄어쓰기 주의\n",
        " + ccc\n",
        "* ddd #*이 앞으로 오면 검은 원\n",
        " * 뒤로 오면 비어있는 원\n",
        "\n",
        "\n"
      ]
    },
    {
      "cell_type": "markdown",
      "metadata": {
        "id": "fkacdMQRJqKE",
        "colab_type": "text"
      },
      "source": [
        "Task list\n",
        "\n",
        "- [x] Learn Jupyter Notebooks\n",
        "    - [x] Writing\n",
        "    - [x] Modes\n",
        "    - [x] Other Considerations\n",
        "- [x] Change the world\n",
        "\n",
        "   - [ ] empty square\n",
        "   - [x] filled\n",
        "   - [x] ##### 들여쓰기\n",
        "- [ ] ##### 내어쓰기\n",
        "- [ ] 한줄 -> 왜 줄바꿈이되는지 모르겠습니다."
      ]
    },
    {
      "cell_type": "markdown",
      "metadata": {
        "id": "IXdTSg6gJqKF",
        "colab_type": "text"
      },
      "source": [
        "Double click on each to see how they are built! "
      ]
    },
    {
      "cell_type": "markdown",
      "metadata": {
        "id": "9GUkces3JqKH",
        "colab_type": "text"
      },
      "source": [
        "### Code Capabilities"
      ]
    },
    {
      "cell_type": "markdown",
      "metadata": {
        "id": "kqNClkXvJqKK",
        "colab_type": "text"
      },
      "source": [
        "**Code** cells are different than **Markdown** cells in that they have an output cell. This means that we can _keep_ the results of our code within the notebook and share them. Let's say we want to show a graph that explains the result of an experiment. We can just run the necessary cells and save the notebook. The output will be there when we open it again! Try it out by running the next four cells."
      ]
    },
    {
      "cell_type": "code",
      "metadata": {
        "id": "R6qOPUFNJqKN",
        "colab_type": "code",
        "colab": {}
      },
      "source": [
        "# Import necessary libraries\n",
        "from fastai.vision import * \n",
        "import matplotlib.pyplot as plt"
      ],
      "execution_count": 0,
      "outputs": []
    },
    {
      "cell_type": "code",
      "metadata": {
        "id": "pU3BwT34JqKS",
        "colab_type": "code",
        "colab": {}
      },
      "source": [
        "from PIL import Image"
      ],
      "execution_count": 0,
      "outputs": []
    },
    {
      "cell_type": "code",
      "metadata": {
        "id": "Jdt7h5SIJqKW",
        "colab_type": "code",
        "outputId": "ccd04da8-c520-4976-9596-183a57576d0e",
        "colab": {
          "base_uri": "https://localhost:8080/",
          "height": 34
        }
      },
      "source": [
        "a = 1\n",
        "b = a + 1\n",
        "c = b + a + 1\n",
        "d = c + b + a + 1\n",
        "e = d - 1\n",
        "f = e - d - 1\n",
        "g = f - e - d - 1\n",
        "h = g - f - e - d - 1\n",
        "a, b, c ,d, e, f, g, h"
      ],
      "execution_count": 9,
      "outputs": [
        {
          "output_type": "execute_result",
          "data": {
            "text/plain": [
              "(1, 2, 4, 8, 7, -2, -18, -32)"
            ]
          },
          "metadata": {
            "tags": []
          },
          "execution_count": 9
        }
      ]
    },
    {
      "cell_type": "code",
      "metadata": {
        "id": "Q6zLj91yJqKa",
        "colab_type": "code",
        "outputId": "1ed1cade-6b81-431d-9082-525ef7e72875",
        "colab": {
          "base_uri": "https://localhost:8080/",
          "height": 269
        }
      },
      "source": [
        "plt.plot([a,b,c,d,e,f,g,h])\n",
        "plt.show()"
      ],
      "execution_count": 11,
      "outputs": [
        {
          "output_type": "display_data",
          "data": {
            "image/png": "[encoded data removed]",
            "text/plain": [
              "<Figure size 432x288 with 1 Axes>"
            ]
          },
          "metadata": {
            "tags": []
          }
        }
      ]
    },
    {
      "cell_type": "markdown",
      "metadata": {
        "id": "d54N6qYLJqKe",
        "colab_type": "text"
      },
      "source": [
        "We can also print images while experimenting. I am watching you."
      ]
    },
    {
      "cell_type": "code",
      "metadata": {
        "id": "kK29PRWlJqKf",
        "colab_type": "code",
        "outputId": "9ac5b4ae-93f7-4b1b-d24e-975790a8bac5",
        "colab": {
          "base_uri": "https://localhost:8080/",
          "height": 317
        }
      },
      "source": [
        "from PIL import Image\n",
        "im = Image.open('./alpaca.jpeg')\n",
        "im.show()"
      ],
      "execution_count": 18,
      "outputs": [
        {
          "output_type": "error",
          "ename": "FileNotFoundError",
          "evalue": "ignored",
          "traceback": [
            "\u001b[0;31m---------------------------------------------------------------------------\u001b[0m",
            "\u001b[0;31mFileNotFoundError\u001b[0m                         Traceback (most recent call last)",
            "\u001b[0;32m<ipython-input-18-fd722b090ed0>\u001b[0m in \u001b[0;36m<module>\u001b[0;34m()\u001b[0m\n\u001b[1;32m      1\u001b[0m \u001b[0;32mfrom\u001b[0m \u001b[0mPIL\u001b[0m \u001b[0;32mimport\u001b[0m \u001b[0mImage\u001b[0m\u001b[0;34m\u001b[0m\u001b[0;34m\u001b[0m\u001b[0m\n\u001b[0;32m----> 2\u001b[0;31m \u001b[0mim\u001b[0m \u001b[0;34m=\u001b[0m \u001b[0mImage\u001b[0m\u001b[0;34m.\u001b[0m\u001b[0mopen\u001b[0m\u001b[0;34m(\u001b[0m\u001b[0;34m'./alpaca.jpeg'\u001b[0m\u001b[0;34m)\u001b[0m\u001b[0;34m\u001b[0m\u001b[0;34m\u001b[0m\u001b[0m\n\u001b[0m\u001b[1;32m      3\u001b[0m \u001b[0mim\u001b[0m\u001b[0;34m.\u001b[0m\u001b[0mshow\u001b[0m\u001b[0;34m(\u001b[0m\u001b[0;34m)\u001b[0m\u001b[0;34m\u001b[0m\u001b[0;34m\u001b[0m\u001b[0m\n",
            "\u001b[0;32m/usr/local/lib/python3.6/dist-packages/PIL/Image.py\u001b[0m in \u001b[0;36mopen\u001b[0;34m(fp, mode)\u001b[0m\n\u001b[1;32m   2764\u001b[0m \u001b[0;34m\u001b[0m\u001b[0m\n\u001b[1;32m   2765\u001b[0m     \u001b[0;32mif\u001b[0m \u001b[0mfilename\u001b[0m\u001b[0;34m:\u001b[0m\u001b[0;34m\u001b[0m\u001b[0;34m\u001b[0m\u001b[0m\n\u001b[0;32m-> 2766\u001b[0;31m         \u001b[0mfp\u001b[0m \u001b[0;34m=\u001b[0m \u001b[0mbuiltins\u001b[0m\u001b[0;34m.\u001b[0m\u001b[0mopen\u001b[0m\u001b[0;34m(\u001b[0m\u001b[0mfilename\u001b[0m\u001b[0;34m,\u001b[0m \u001b[0;34m\"rb\"\u001b[0m\u001b[0;34m)\u001b[0m\u001b[0;34m\u001b[0m\u001b[0;34m\u001b[0m\u001b[0m\n\u001b[0m\u001b[1;32m   2767\u001b[0m         \u001b[0mexclusive_fp\u001b[0m \u001b[0;34m=\u001b[0m \u001b[0;32mTrue\u001b[0m\u001b[0;34m\u001b[0m\u001b[0;34m\u001b[0m\u001b[0m\n\u001b[1;32m   2768\u001b[0m \u001b[0;34m\u001b[0m\u001b[0m\n",
            "\u001b[0;31mFileNotFoundError\u001b[0m: [Errno 2] No such file or directory: './alpaca.jpeg'"
          ]
        }
      ]
    },
    {
      "cell_type": "code",
      "metadata": {
        "id": "EdBp0UazEbCB",
        "colab_type": "code",
        "colab": {
          "base_uri": "https://localhost:8080/",
          "height": 303
        },
        "outputId": "331989d1-90cd-43bd-bc40-9a86bcd4b263"
      },
      "source": [
        "Image.open(' /Users/jimin5676/Documents/alpaca.jpeg')"
      ],
      "execution_count": 19,
      "outputs": [
        {
          "output_type": "error",
          "ename": "FileNotFoundError",
          "evalue": "ignored",
          "traceback": [
            "\u001b[0;31m---------------------------------------------------------------------------\u001b[0m",
            "\u001b[0;31mFileNotFoundError\u001b[0m                         Traceback (most recent call last)",
            "\u001b[0;32m<ipython-input-19-4bd798a93be9>\u001b[0m in \u001b[0;36m<module>\u001b[0;34m()\u001b[0m\n\u001b[0;32m----> 1\u001b[0;31m \u001b[0mImage\u001b[0m\u001b[0;34m.\u001b[0m\u001b[0mopen\u001b[0m\u001b[0;34m(\u001b[0m\u001b[0;34m' /Users/jimin5676/Documents/alpaca.jpeg'\u001b[0m\u001b[0;34m)\u001b[0m\u001b[0;34m\u001b[0m\u001b[0;34m\u001b[0m\u001b[0m\n\u001b[0m",
            "\u001b[0;32m/usr/local/lib/python3.6/dist-packages/PIL/Image.py\u001b[0m in \u001b[0;36mopen\u001b[0;34m(fp, mode)\u001b[0m\n\u001b[1;32m   2764\u001b[0m \u001b[0;34m\u001b[0m\u001b[0m\n\u001b[1;32m   2765\u001b[0m     \u001b[0;32mif\u001b[0m \u001b[0mfilename\u001b[0m\u001b[0;34m:\u001b[0m\u001b[0;34m\u001b[0m\u001b[0;34m\u001b[0m\u001b[0m\n\u001b[0;32m-> 2766\u001b[0;31m         \u001b[0mfp\u001b[0m \u001b[0;34m=\u001b[0m \u001b[0mbuiltins\u001b[0m\u001b[0;34m.\u001b[0m\u001b[0mopen\u001b[0m\u001b[0;34m(\u001b[0m\u001b[0mfilename\u001b[0m\u001b[0;34m,\u001b[0m \u001b[0;34m\"rb\"\u001b[0m\u001b[0;34m)\u001b[0m\u001b[0;34m\u001b[0m\u001b[0;34m\u001b[0m\u001b[0m\n\u001b[0m\u001b[1;32m   2767\u001b[0m         \u001b[0mexclusive_fp\u001b[0m \u001b[0;34m=\u001b[0m \u001b[0;32mTrue\u001b[0m\u001b[0;34m\u001b[0m\u001b[0;34m\u001b[0m\u001b[0m\n\u001b[1;32m   2768\u001b[0m \u001b[0;34m\u001b[0m\u001b[0m\n",
            "\u001b[0;31mFileNotFoundError\u001b[0m: [Errno 2] No such file or directory: ' /Users/jimin5676/Documents/alpaca.jpeg'"
          ]
        }
      ]
    },
    {
      "cell_type": "code",
      "metadata": {
        "id": "IFLY1dAuE6a6",
        "colab_type": "code",
        "colab": {
          "base_uri": "https://localhost:8080/",
          "height": 164
        },
        "outputId": "63e5e5b3-1670-45eb-e76d-a529d01fb3dc"
      },
      "source": [
        "Image.open(alpaca, \"jpeg\") // 파일 경로가 잘못된 것인지 코드 문제인지 모르겠습니다."
      ],
      "execution_count": 21,
      "outputs": [
        {
          "output_type": "error",
          "ename": "NameError",
          "evalue": "ignored",
          "traceback": [
            "\u001b[0;31m---------------------------------------------------------------------------\u001b[0m",
            "\u001b[0;31mNameError\u001b[0m                                 Traceback (most recent call last)",
            "\u001b[0;32m<ipython-input-21-10c09c1d8f3f>\u001b[0m in \u001b[0;36m<module>\u001b[0;34m()\u001b[0m\n\u001b[0;32m----> 1\u001b[0;31m \u001b[0mImage\u001b[0m\u001b[0;34m.\u001b[0m\u001b[0mopen\u001b[0m\u001b[0;34m(\u001b[0m\u001b[0malpaca\u001b[0m\u001b[0;34m,\u001b[0m \u001b[0;34m\"jpeg\"\u001b[0m\u001b[0;34m)\u001b[0m\u001b[0;34m\u001b[0m\u001b[0;34m\u001b[0m\u001b[0m\n\u001b[0m",
            "\u001b[0;31mNameError\u001b[0m: name 'alpaca' is not defined"
          ]
        }
      ]
    },
    {
      "cell_type": "markdown",
      "metadata": {
        "id": "3-EuBI1JJqKk",
        "colab_type": "text"
      },
      "source": [
        "### Running the app locally"
      ]
    },
    {
      "cell_type": "markdown",
      "metadata": {
        "id": "k7xN-3xzJqKl",
        "colab_type": "text"
      },
      "source": [
        "You may be running Jupyter Notebook from an interactive coding environment like Gradient, Sagemaker or Salamander. You can also run a Jupyter Notebook server from your local computer. What's more, if you have installed Anaconda you don't even need to install Jupyter (if not, just `pip install jupyter`).\n",
        "\n",
        "You just need to run `jupyter notebook` in your terminal. Remember to run it from a folder that contains all the folders/files you will want to access. You will be able to open, view and edit files located within the directory in which you run this command but not files in parent directories.\n",
        "\n",
        "If a browser tab does not open automatically once you run the command, you should CTRL+CLICK the link starting with 'https://localhost:' and this will open a new tab in your default browser."
      ]
    },
    {
      "cell_type": "markdown",
      "metadata": {
        "id": "Os6QvWEYJqKm",
        "colab_type": "text"
      },
      "source": [
        "### Creating a notebook"
      ]
    },
    {
      "cell_type": "markdown",
      "metadata": {
        "id": "j3FTExWaJqKo",
        "colab_type": "text"
      },
      "source": [
        "Click on 'New' in the upper right corner and 'Python 3' in the drop-down list (we are going to use a [Python kernel](https://github.com/ipython/ipython) for all our experiments).\n",
        "\n",
        "![new_notebook](https://github.com/fastai/course-v3/blob/master/nbs/dl1/images/notebook_tutorial/new_notebook.png?raw=1)\n",
        "\n",
        "Note: You will sometimes hear people talking about the Notebook 'kernel'. The 'kernel' is just the Python engine that performs the computations for you. "
      ]
    },
    {
      "cell_type": "markdown",
      "metadata": {
        "id": "JWn9o86OJqKp",
        "colab_type": "text"
      },
      "source": [
        "### Shortcuts and tricks"
      ]
    },
    {
      "cell_type": "markdown",
      "metadata": {
        "id": "yn2VEXAJJqKr",
        "colab_type": "text"
      },
      "source": [
        "#### Command Mode Shortcuts"
      ]
    },
    {
      "cell_type": "markdown",
      "metadata": {
        "id": "BuXGfZ2nJqKs",
        "colab_type": "text"
      },
      "source": [
        "There are a couple of useful keyboard shortcuts in `Command Mode` that you can leverage to make Jupyter Notebook faster to use. Remember that to switch back and forth between `Command Mode` and `Edit Mode` with <kbd>Esc</kbd> and <kbd>Enter</kbd>."
      ]
    },
    {
      "cell_type": "markdown",
      "metadata": {
        "id": "BIbmylegJqKt",
        "colab_type": "text"
      },
      "source": [
        "<kbd>m</kbd>: Convert cell to Markdown"
      ]
    },
    {
      "cell_type": "markdown",
      "metadata": {
        "id": "_qEeQg29JqKu",
        "colab_type": "text"
      },
      "source": [
        "<kbd>y</kbd>: Convert cell to Code"
      ]
    },
    {
      "cell_type": "markdown",
      "metadata": {
        "id": "s5XHlJSJJqKu",
        "colab_type": "text"
      },
      "source": [
        "<kbd>D</kbd>+<kbd>D</kbd>: Delete the cell(if it's not the only cell) or delete the content of the cell and reset cell to Code(if only one cell left)"
      ]
    },
    {
      "cell_type": "markdown",
      "metadata": {
        "id": "pznfl73kJqKv",
        "colab_type": "text"
      },
      "source": [
        "<kbd>o</kbd>: Toggle between hide or show output"
      ]
    },
    {
      "cell_type": "markdown",
      "metadata": {
        "id": "HfYnhPlSJqKw",
        "colab_type": "text"
      },
      "source": [
        "<kbd>Shift</kbd>+<kbd>Arrow up/Arrow down</kbd>: Selects multiple cells. Once you have selected them you can operate on them like a batch (run, copy, paste etc)."
      ]
    },
    {
      "cell_type": "markdown",
      "metadata": {
        "id": "jmOsHzeZJqKx",
        "colab_type": "text"
      },
      "source": [
        "<kbd>Shift</kbd>+<kbd>M</kbd>: Merge selected cells."
      ]
    },
    {
      "cell_type": "markdown",
      "metadata": {
        "id": "4v4GLleMJqKy",
        "colab_type": "text"
      },
      "source": [
        "<kbd>Shift</kbd>+<kbd>Tab</kbd>: [press these two buttons at the same time, once] Tells you which parameters to pass on a function\n",
        "\n",
        "<kbd>Shift</kbd>+<kbd>Tab</kbd>: [press these two buttons at the same time, three times] Gives additional information on the method"
      ]
    },
    {
      "cell_type": "markdown",
      "metadata": {
        "id": "jz9j1vSzJqKz",
        "colab_type": "text"
      },
      "source": [
        "#### Cell Tricks"
      ]
    },
    {
      "cell_type": "code",
      "metadata": {
        "id": "LufN3rq5JqK0",
        "colab_type": "code",
        "colab": {}
      },
      "source": [
        "from fastai import* \n",
        "from fastai.vision import *"
      ],
      "execution_count": 0,
      "outputs": []
    },
    {
      "cell_type": "code",
      "metadata": {
        "id": "RoPA_mvWFYWt",
        "colab_type": "code",
        "colab": {}
      },
      "source": [
        "from fastai import* //fastai전체를 가져옴\n",
        "from fastai.vision import * //세부적인것을 가져옴"
      ],
      "execution_count": 0,
      "outputs": []
    },
    {
      "cell_type": "markdown",
      "metadata": {
        "id": "lW-zDtBXJqK3",
        "colab_type": "text"
      },
      "source": [
        "There are also some tricks that you can code into a cell."
      ]
    },
    {
      "cell_type": "markdown",
      "metadata": {
        "id": "Tux0bL1NJqK4",
        "colab_type": "text"
      },
      "source": [
        "`?function-name`: Shows the definition and docstring for that function"
      ]
    },
    {
      "cell_type": "code",
      "metadata": {
        "id": "7Gpbr2OhJqK5",
        "colab_type": "code",
        "colab": {}
      },
      "source": [
        "?ImageDataBunch"
      ],
      "execution_count": 0,
      "outputs": []
    },
    {
      "cell_type": "code",
      "metadata": {
        "id": "Sh-f6hWCF4q4",
        "colab_type": "code",
        "colab": {}
      },
      "source": [
        "?ImageBBox //기능과 파일 저장 위치, 타입"
      ],
      "execution_count": 0,
      "outputs": []
    },
    {
      "cell_type": "markdown",
      "metadata": {
        "id": "Zjz_V72NJqK9",
        "colab_type": "text"
      },
      "source": [
        "`??function-name`: Shows the source code for that function"
      ]
    },
    {
      "cell_type": "code",
      "metadata": {
        "id": "pkG-lwtJJqK-",
        "colab_type": "code",
        "colab": {}
      },
      "source": [
        "??ImageDataBunch"
      ],
      "execution_count": 0,
      "outputs": []
    },
    {
      "cell_type": "markdown",
      "metadata": {
        "id": "wWMrkuotJqLB",
        "colab_type": "text"
      },
      "source": [
        "`doc(function-name)`: Shows the definition, docstring **and links to the documentation** of the function\n",
        "(only works with fastai library imported)"
      ]
    },
    {
      "cell_type": "code",
      "metadata": {
        "id": "H-nW8mC9JqLB",
        "colab_type": "code",
        "colab": {
          "base_uri": "https://localhost:8080/",
          "height": 248
        },
        "outputId": "04001b80-140a-471a-c5da-c8cad3d15eb9"
      },
      "source": [
        "doc(ImageDataBunch)"
      ],
      "execution_count": 28,
      "outputs": [
        {
          "output_type": "display_data",
          "data": {
            "text/html": [
              "<h2 id=\"ImageDataBunch\" class=\"doc_header\"><code>class</code> <code>ImageDataBunch</code><a href=\"https://github.com/fastai/fastai/blob/master/fastai/vision/data.py#L85\" class=\"source_link\" style=\"float:right\">[source]</a><a class=\"source_link\" data-toggle=\"collapse\" data-target=\"#ImageDataBunch-pytest\" style=\"float:right; padding-right:10px\">[test]</a></h2><blockquote><p><code>ImageDataBunch</code>(<strong><code>train_dl</code></strong>:<a href=\"https://pytorch.org/docs/stable/data.html#torch.utils.data.DataLoader\"><code>DataLoader</code></a>, <strong><code>valid_dl</code></strong>:<a href=\"https://pytorch.org/docs/stable/data.html#torch.utils.data.DataLoader\"><code>DataLoader</code></a>, <strong><code>fix_dl</code></strong>:<a href=\"https://pytorch.org/docs/stable/data.html#torch.utils.data.DataLoader\"><code>DataLoader</code></a>=<strong><em><code>None</code></em></strong>, <strong><code>test_dl</code></strong>:<code>Optional</code>[<a href=\"https://pytorch.org/docs/stable/data.html#torch.utils.data.DataLoader\"><code>DataLoader</code></a>]=<strong><em><code>None</code></em></strong>, <strong><code>device</code></strong>:<a href=\"https://pytorch.org/docs/stable/tensor_attributes.html#torch-device\"><code>device</code></a>=<strong><em><code>None</code></em></strong>, <strong><code>dl_tfms</code></strong>:<code>Optional</code>[<code>Collection</code>[<code>Callable</code>]]=<strong><em><code>None</code></em></strong>, <strong><code>path</code></strong>:<code>PathOrStr</code>=<strong><em><code>'.'</code></em></strong>, <strong><code>collate_fn</code></strong>:<code>Callable</code>=<strong><em><code>'data_collate'</code></em></strong>, <strong><code>no_check</code></strong>:<code>bool</code>=<strong><em><code>False</code></em></strong>) :: <a href=\"https://docs.fast.ai/basic_data.html#DataBunch\"><code>DataBunch</code></a></p>\n",
              "</blockquote>\n",
              "<div class=\"collapse\" id=\"ImageDataBunch-pytest\"><div class=\"card card-body pytest_card\"><a type=\"button\" data-toggle=\"collapse\" data-target=\"#ImageDataBunch-pytest\" class=\"close\" aria-label=\"Close\"><span aria-hidden=\"true\">&times;</span></a><p>No tests found for <code>ImageDataBunch</code>. To contribute a test please refer to <a href=\"/dev/test.html\">this guide</a> and <a href=\"https://forums.fast.ai/t/improving-expanding-functional-tests/32929\">this discussion</a>.</p></div></div><p>DataBunch suitable for computer vision.</p>\n",
              "<p><a href=\"https://docs.fast.ai/vision.data.html#ImageDataBunch\" target=\"_blank\" rel=\"noreferrer noopener\">Show in docs</a></p>\n"
            ],
            "text/plain": [
              "<IPython.core.display.HTML object>"
            ]
          },
          "metadata": {
            "tags": []
          }
        }
      ]
    },
    {
      "cell_type": "code",
      "metadata": {
        "id": "6p8GuyRaHKz2",
        "colab_type": "code",
        "colab": {
          "base_uri": "https://localhost:8080/",
          "height": 243
        },
        "outputId": "5449afb1-097b-43c7-d91f-6821188a038d"
      },
      "source": [
        "doc(ImagePoints)"
      ],
      "execution_count": 29,
      "outputs": [
        {
          "output_type": "display_data",
          "data": {
            "text/html": [
              "<h2 id=\"ImagePoints\" class=\"doc_header\"><code>class</code> <code>ImagePoints</code><a href=\"https://github.com/fastai/fastai/blob/master/fastai/vision/image.py#L251\" class=\"source_link\" style=\"float:right\">[source]</a><a class=\"source_link\" data-toggle=\"collapse\" data-target=\"#ImagePoints-pytest\" style=\"float:right; padding-right:10px\">[test]</a></h2><blockquote><p><code>ImagePoints</code>(<strong><code>flow</code></strong>:<a href=\"https://docs.fast.ai/vision.image.html#FlowField\"><code>FlowField</code></a>, <strong><code>scale</code></strong>:<code>bool</code>=<strong><em><code>True</code></em></strong>, <strong><code>y_first</code></strong>:<code>bool</code>=<strong><em><code>True</code></em></strong>) :: <a href=\"https://docs.fast.ai/vision.image.html#Image\"><code>Image</code></a></p>\n",
              "</blockquote>\n",
              "<div class=\"collapse\" id=\"ImagePoints-pytest\"><div class=\"card card-body pytest_card\"><a type=\"button\" data-toggle=\"collapse\" data-target=\"#ImagePoints-pytest\" class=\"close\" aria-label=\"Close\"><span aria-hidden=\"true\">&times;</span></a><p>Tests found for <code>ImagePoints</code>:</p><ul><li><code>pytest -sv tests/test_vision_transform.py::test_points_data_aug</code> <a href=\"https://github.com/fastai/fastai/blob/master/tests/test_vision_transform.py#L22\" class=\"source_link\" style=\"float:right\">[source]</a></li></ul><p>To run tests please refer to this <a href=\"/dev/test.html#quick-guide\">guide</a>.</p></div></div><p>Support applying transforms to a <code>flow</code> of points.</p>\n",
              "<p><a href=\"https://docs.fast.ai/vision.image.html#ImagePoints\" target=\"_blank\" rel=\"noreferrer noopener\">Show in docs</a></p>\n"
            ],
            "text/plain": [
              "<IPython.core.display.HTML object>"
            ]
          },
          "metadata": {
            "tags": []
          }
        }
      ]
    },
    {
      "cell_type": "markdown",
      "metadata": {
        "id": "LQHlaQm3JqLE",
        "colab_type": "text"
      },
      "source": [
        "#### Line Magics"
      ]
    },
    {
      "cell_type": "markdown",
      "metadata": {
        "id": "iETjUS93JqLF",
        "colab_type": "text"
      },
      "source": [
        "Line magics are functions that you can run on cells and take as an argument the rest of the line from where they are called. You call them by placing a '%' sign before the command. The most useful ones are:"
      ]
    },
    {
      "cell_type": "markdown",
      "metadata": {
        "id": "Ct130-QgJqLG",
        "colab_type": "text"
      },
      "source": [
        "`%matplotlib inline`: This command ensures that all matplotlib plots will be plotted in the output cell within the notebook and will be kept in the notebook when saved."
      ]
    },
    {
      "cell_type": "markdown",
      "metadata": {
        "id": "njaLljOrJqLH",
        "colab_type": "text"
      },
      "source": [
        "`%reload_ext autoreload`, `%autoreload 2`: Reload all modules before executing a new line. If a module is edited, it is not necessary to rerun the import commands, the modules will be reloaded automatically."
      ]
    },
    {
      "cell_type": "markdown",
      "metadata": {
        "id": "HiorZTcAJqLI",
        "colab_type": "text"
      },
      "source": [
        "These three commands are always called together at the beginning of every notebook."
      ]
    },
    {
      "cell_type": "code",
      "metadata": {
        "id": "BcnU_4wBJqLJ",
        "colab_type": "code",
        "colab": {
          "base_uri": "https://localhost:8080/",
          "height": 34
        },
        "outputId": "fbef6aa0-de10-424f-dad4-faf01c6dc9bd"
      },
      "source": [
        "%matplotlib inline //matplotlib; 데이터 차트나 플롯을 그려주는 라이브러리\n",
        "%reload_ext autoreload //자동새로고침\n",
        "%autoreload 2"
      ],
      "execution_count": 30,
      "outputs": [
        {
          "output_type": "stream",
          "text": [
            "UsageError: unrecognized arguments: #matplotlib; 데이터 차트나 플롯을 그려주는 라이브러리\n"
          ],
          "name": "stderr"
        }
      ]
    },
    {
      "cell_type": "code",
      "metadata": {
        "id": "bBEm-W_EIUrS",
        "colab_type": "code",
        "colab": {
          "base_uri": "https://localhost:8080/",
          "height": 34
        },
        "outputId": "ef1d4ef2-1fc0-40a7-dd52-1c86a175ba9e"
      },
      "source": [
        "%autoreload2"
      ],
      "execution_count": 31,
      "outputs": [
        {
          "output_type": "stream",
          "text": [
            "UsageError: Line magic function `%autoreload2` not found.\n"
          ],
          "name": "stderr"
        }
      ]
    },
    {
      "cell_type": "markdown",
      "metadata": {
        "id": "fzu0kLaUJqLM",
        "colab_type": "text"
      },
      "source": [
        "`%timeit`: Runs a line a ten thousand times and displays the average time it took to run it."
      ]
    },
    {
      "cell_type": "code",
      "metadata": {
        "id": "ZTJQRKGRJqLN",
        "colab_type": "code",
        "outputId": "0a197eab-5fbe-4203-d8ae-d0bf979444a5",
        "colab": {}
      },
      "source": [
        "%timeit [i+1 for i in range(1000)]"
      ],
      "execution_count": 0,
      "outputs": [
        {
          "output_type": "stream",
          "text": [
            "54.4 µs ± 1.37 µs per loop (mean ± std. dev. of 7 runs, 10000 loops each)\n"
          ],
          "name": "stdout"
        }
      ]
    },
    {
      "cell_type": "code",
      "metadata": {
        "id": "EYgeKb_rItDe",
        "colab_type": "code",
        "colab": {
          "base_uri": "https://localhost:8080/",
          "height": 96
        },
        "outputId": "19a78be0-acc9-45d4-b2db-b5c3aacdd4bc"
      },
      "source": [
        "%timeit [i+1 for 1 in range(1000)] //왜 실행이 안되는지 모르겠습니다."
      ],
      "execution_count": 35,
      "outputs": [
        {
          "output_type": "error",
          "ename": "SyntaxError",
          "evalue": "ignored",
          "traceback": [
            "\u001b[0;36m  File \u001b[0;32m\"<unknown>\"\u001b[0;36m, line \u001b[0;32m1\u001b[0m\n\u001b[0;31mSyntaxError\u001b[0m\u001b[0;31m:\u001b[0m can't assign to literal\n"
          ]
        }
      ]
    },
    {
      "cell_type": "markdown",
      "metadata": {
        "id": "pWnp1fmoJqLQ",
        "colab_type": "text"
      },
      "source": [
        "`%debug`: Allows to inspect a function which is showing an error using the [Python debugger](https://docs.python.org/3/library/pdb.html)."
      ]
    },
    {
      "cell_type": "code",
      "metadata": {
        "id": "G0lBnIW2JqLR",
        "colab_type": "code",
        "outputId": "ab49276a-cafb-40a9-93a8-e7c36549afc4",
        "colab": {}
      },
      "source": [
        "for i in range(1000):\n",
        "    a = i+1\n",
        "    b = 'string'\n",
        "    c = b+1"
      ],
      "execution_count": 0,
      "outputs": [
        {
          "output_type": "error",
          "ename": "TypeError",
          "evalue": "must be str, not int",
          "traceback": [
            "\u001b[1;31m---------------------------------------------------------------------------\u001b[0m",
            "\u001b[1;31mTypeError\u001b[0m                                 Traceback (most recent call last)",
            "\u001b[1;32m<ipython-input-14-8d78ff778454>\u001b[0m in \u001b[0;36m<module>\u001b[1;34m()\u001b[0m\n\u001b[0;32m      2\u001b[0m     \u001b[0ma\u001b[0m \u001b[1;33m=\u001b[0m \u001b[0mi\u001b[0m\u001b[1;33m+\u001b[0m\u001b[1;36m1\u001b[0m\u001b[1;33m\u001b[0m\u001b[0m\n\u001b[0;32m      3\u001b[0m     \u001b[0mb\u001b[0m \u001b[1;33m=\u001b[0m \u001b[1;34m'string'\u001b[0m\u001b[1;33m\u001b[0m\u001b[0m\n\u001b[1;32m----> 4\u001b[1;33m     \u001b[0mc\u001b[0m \u001b[1;33m=\u001b[0m \u001b[0mb\u001b[0m\u001b[1;33m+\u001b[0m\u001b[1;36m1\u001b[0m\u001b[1;33m\u001b[0m\u001b[0m\n\u001b[0m",
            "\u001b[1;31mTypeError\u001b[0m: must be str, not int"
          ]
        }
      ]
    },
    {
      "cell_type": "code",
      "metadata": {
        "id": "edGJFLatLCPN",
        "colab_type": "code",
        "colab": {}
      },
      "source": [
        "%debug //오류 찾기"
      ],
      "execution_count": 0,
      "outputs": []
    },
    {
      "cell_type": "code",
      "metadata": {
        "id": "oQTaB_FDJqLa",
        "colab_type": "code",
        "colab": {}
      },
      "source": [
        "for i in range(1000):\n",
        "     a = i + 3\n",
        "     b = 'string' //문자열\n",
        "     c = b + 1\n",
        "     d = a + 3\n",
        "\n",
        "     c,d"
      ],
      "execution_count": 0,
      "outputs": []
    }
  ]
}