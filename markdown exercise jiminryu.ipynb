{
 "cells": [
  {
   "cell_type": "markdown",
   "metadata": {},
   "source": [
    "*italics*\n",
    "**bold**\n",
    "`inline`\n",
    ">띄어쓰기\n",
    "\n",
    "# h1\n",
    "## h2\n",
    "### h3\n",
    "\n",
    "1. step1\n",
    "2. step2\n",
    "3. step3\n",
    "\n",
    "* 목록\n",
    "+ 목록\n",
    "\n",
    "<ol>1.가나다\n",
    "\n",
    "<ul>1."
   ]
  },
  {
   "cell_type": "markdown",
   "metadata": {},
   "source": []
  },
  {
   "cell_type": "markdown",
   "metadata": {},
   "source": [
    "* ff\n",
    "+ dd\n",
    "\n",
    "<ol>1.gghhh\n",
    "\n",
    "<ul>1.hhh\n"
   ]
  },
  {
   "cell_type": "markdown",
   "metadata": {},
   "source": []
  }
 ],
 "metadata": {
  "kernelspec": {
   "display_name": "Python 3",
   "language": "python",
   "name": "python3"
  },
  "language_info": {
   "codemirror_mode": {
    "name": "ipython",
    "version": 3
   },
   "file_extension": ".py",
   "mimetype": "text/x-python",
   "name": "python",
   "nbconvert_exporter": "python",
   "pygments_lexer": "ipython3",
   "version": "3.7.1"
  }
 },
 "nbformat": 4,
 "nbformat_minor": 2
}
